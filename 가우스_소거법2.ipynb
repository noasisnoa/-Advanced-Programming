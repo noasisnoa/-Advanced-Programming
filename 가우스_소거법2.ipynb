{
  "nbformat": 4,
  "nbformat_minor": 0,
  "metadata": {
    "colab": {
      "provenance": [],
      "authorship_tag": "ABX9TyMieUBvbkZ8e0ld/rEAjyXe",
      "include_colab_link": true
    },
    "kernelspec": {
      "name": "python3",
      "display_name": "Python 3"
    },
    "language_info": {
      "name": "python"
    }
  },
  "cells": [
    {
      "cell_type": "markdown",
      "metadata": {
        "id": "view-in-github",
        "colab_type": "text"
      },
      "source": [
        "<a href=\"https://colab.research.google.com/github/noasisnoa/-Advanced-Programming/blob/main/%EA%B0%80%EC%9A%B0%EC%8A%A4_%EC%86%8C%EA%B1%B0%EB%B2%952.ipynb\" target=\"_parent\"><img src=\"https://colab.research.google.com/assets/colab-badge.svg\" alt=\"Open In Colab\"/></a>"
      ]
    },
    {
      "cell_type": "code",
      "execution_count": 211,
      "metadata": {
        "id": "F45BbQ6ThAyh"
      },
      "outputs": [],
      "source": [
        "import numpy as np"
      ]
    },
    {
      "cell_type": "code",
      "source": [
        "A = np.array([[0.0, 1.0, -3.0], [2.0, 3.0, -1.0], [4.0, 5.0, -2.0]])\n",
        "B = np.array([[-5.0], [7.0], [10.0]])"
      ],
      "metadata": {
        "id": "kRhDa1j6kAcV"
      },
      "execution_count": 212,
      "outputs": []
    },
    {
      "cell_type": "code",
      "source": [],
      "metadata": {
        "id": "9gVvxl3zDEXR"
      },
      "execution_count": null,
      "outputs": []
    },
    {
      "cell_type": "code",
      "source": [
        "row_index = list( range(len(A)))\n",
        "print(row_index)\n",
        "print(len(row_index))"
      ],
      "metadata": {
        "id": "ZH9itybNYt-Z",
        "colab": {
          "base_uri": "https://localhost:8080/"
        },
        "outputId": "efe7543b-0b94-4048-a503-228f6f8da6ef"
      },
      "execution_count": 213,
      "outputs": [
        {
          "output_type": "stream",
          "name": "stdout",
          "text": [
            "[0, 1, 2]\n",
            "3\n"
          ]
        }
      ]
    },
    {
      "cell_type": "code",
      "source": [
        "col_index = len(A[0])\n",
        "print(A[0])\n",
        "print(col_index)"
      ],
      "metadata": {
        "id": "fNwmnjtXZa_b",
        "colab": {
          "base_uri": "https://localhost:8080/"
        },
        "outputId": "a20cf717-275d-4923-cfb9-36cbcb9089c7"
      },
      "execution_count": 214,
      "outputs": [
        {
          "output_type": "stream",
          "name": "stdout",
          "text": [
            "[ 0.  1. -3.]\n",
            "3\n"
          ]
        }
      ]
    },
    {
      "cell_type": "code",
      "source": [
        "def check_matrix(a, b):\n",
        "  print(a)\n",
        "  print('==========')\n",
        "  print(b)"
      ],
      "metadata": {
        "id": "4Qq-EQk7ZpNG"
      },
      "execution_count": 215,
      "outputs": []
    },
    {
      "cell_type": "code",
      "source": [
        "#pivot_mat = []"
      ],
      "metadata": {
        "id": "71qwDWNmZ2bT"
      },
      "execution_count": 155,
      "outputs": []
    },
    {
      "cell_type": "code",
      "source": [
        "#0이 아닌 숫자를 찾는다. \n",
        "def find_rows_with_nomazero(AA, r, row_index):\n",
        "    for c in range(r,len(row_index)):\n",
        "      if (AA[c][r] != 0.0):\n",
        "        rows_with_nonzero = c\n",
        "        pivot_number = A[c][r]\n",
        "        break\n",
        "    print(rows_with_nonzero)\n",
        "    print(pivot_number)\n",
        "    return rows_with_nonzero"
      ],
      "metadata": {
        "id": "r1P4iKwuaAEf"
      },
      "execution_count": 216,
      "outputs": []
    },
    {
      "cell_type": "code",
      "source": [
        "import copy\n",
        "def change(inp_list, inp1, inp2):\n",
        "    tmp = copy.deepcopy(inp_list[inp1])\n",
        "    inp_list[inp1] = inp_list[inp2]\n",
        "    inp_list[inp2] = tmp\n",
        "    result =  inp_list\n",
        "    return inp_list"
      ],
      "metadata": {
        "id": "xA-rOIeTaAEg"
      },
      "execution_count": 217,
      "outputs": []
    },
    {
      "cell_type": "code",
      "source": [
        "pivot_row = np.zeros(col_index, dtype=int)\n",
        "print(pivot_row)"
      ],
      "metadata": {
        "id": "IWn4RcJBaJiz",
        "colab": {
          "base_uri": "https://localhost:8080/"
        },
        "outputId": "d3e6371f-7fd2-49a9-d7f2-010364376327"
      },
      "execution_count": 218,
      "outputs": [
        {
          "output_type": "stream",
          "name": "stdout",
          "text": [
            "[0 0 0]\n"
          ]
        }
      ]
    },
    {
      "cell_type": "code",
      "source": [
        "pivot_row[0] = find_rows_with_nomazero(A,0, row_index)\n",
        "print(pivot_row[0])\n",
        "\n",
        "pivot = A[pivot_row[0]][0]\n",
        "print(pivot)\n"
      ],
      "metadata": {
        "id": "SL6KtV1WaLQS",
        "colab": {
          "base_uri": "https://localhost:8080/"
        },
        "outputId": "a3a3735e-971e-494b-85cf-d8c748a1df87"
      },
      "execution_count": 219,
      "outputs": [
        {
          "output_type": "stream",
          "name": "stdout",
          "text": [
            "1\n",
            "2.0\n",
            "1\n",
            "2.0\n"
          ]
        }
      ]
    },
    {
      "cell_type": "code",
      "source": [
        "if pivot_row[0] != 0:\n",
        "  a=change(A, 0, pivot_row[0])\n",
        "  b=change(B, 0, pivot_row[0])"
      ],
      "metadata": {
        "id": "gknSxYIKx1TW"
      },
      "execution_count": 220,
      "outputs": []
    },
    {
      "cell_type": "code",
      "source": [
        "check_matrix(a,b)"
      ],
      "metadata": {
        "colab": {
          "base_uri": "https://localhost:8080/"
        },
        "id": "Z1WUi0gpyay-",
        "outputId": "4f9d2be7-4074-4604-d459-6498e8ee71d1"
      },
      "execution_count": 221,
      "outputs": [
        {
          "output_type": "stream",
          "name": "stdout",
          "text": [
            "[[ 2.  3. -1.]\n",
            " [ 0.  1. -3.]\n",
            " [ 4.  5. -2.]]\n",
            "==========\n",
            "[[ 7.]\n",
            " [-5.]\n",
            " [10.]]\n"
          ]
        }
      ]
    },
    {
      "cell_type": "code",
      "source": [
        "a[0] = a[0]/ pivot\n",
        "b[0] = b[0]/ pivot"
      ],
      "metadata": {
        "id": "i4tg2JdEyrNm"
      },
      "execution_count": 222,
      "outputs": []
    },
    {
      "cell_type": "code",
      "source": [
        "check_matrix(a,b)"
      ],
      "metadata": {
        "colab": {
          "base_uri": "https://localhost:8080/"
        },
        "id": "vq6Z4vHyyrJu",
        "outputId": "f7db7845-3dde-4d83-c6d1-46adee6100e3"
      },
      "execution_count": 223,
      "outputs": [
        {
          "output_type": "stream",
          "name": "stdout",
          "text": [
            "[[ 1.   1.5 -0.5]\n",
            " [ 0.   1.  -3. ]\n",
            " [ 4.   5.  -2. ]]\n",
            "==========\n",
            "[[ 3.5]\n",
            " [-5. ]\n",
            " [10. ]]\n"
          ]
        }
      ]
    },
    {
      "cell_type": "code",
      "source": [],
      "metadata": {
        "id": "8kaEcYLR-wWu"
      },
      "execution_count": null,
      "outputs": []
    },
    {
      "cell_type": "code",
      "source": [
        "for i in range(1, len(row_index)):\n",
        "    pivot = a[i][0]\n",
        "    print(pivot)\n",
        "    a[i] = a[i] - a[0]* pivot\n",
        "    b[i] = b[i] - b[0]* pivot\n",
        "\n",
        "check_matrix(a,b)"
      ],
      "metadata": {
        "colab": {
          "base_uri": "https://localhost:8080/"
        },
        "id": "XF0o3-Sg6gZw",
        "outputId": "a66fe9ae-4742-4e7b-fe60-0f74a667a7dc"
      },
      "execution_count": 224,
      "outputs": [
        {
          "output_type": "stream",
          "name": "stdout",
          "text": [
            "0.0\n",
            "4.0\n",
            "[[ 1.   1.5 -0.5]\n",
            " [ 0.   1.  -3. ]\n",
            " [ 0.  -1.   0. ]]\n",
            "==========\n",
            "[[ 3.5]\n",
            " [-5. ]\n",
            " [-4. ]]\n"
          ]
        }
      ]
    },
    {
      "cell_type": "markdown",
      "source": [
        "#2."
      ],
      "metadata": {
        "id": "UghSYgjL5jl2"
      }
    },
    {
      "cell_type": "code",
      "source": [
        "pivot_row[1] = find_rows_with_nomazero(a,1, row_index)\n",
        "print(pivot_row[1])\n",
        "pivot = A[pivot_row[1]][1]\n",
        "print(pivot)"
      ],
      "metadata": {
        "colab": {
          "base_uri": "https://localhost:8080/"
        },
        "id": "ZyT7NiCv3_o9",
        "outputId": "d96d8332-91f1-4884-f03d-c81537b591ba"
      },
      "execution_count": 225,
      "outputs": [
        {
          "output_type": "stream",
          "name": "stdout",
          "text": [
            "1\n",
            "1.0\n",
            "1\n",
            "1.0\n"
          ]
        }
      ]
    },
    {
      "cell_type": "code",
      "source": [
        "a[1] = a[1]/ pivot\n",
        "b[1] = b[1]/ pivot\n",
        "check_matrix(a,b)"
      ],
      "metadata": {
        "colab": {
          "base_uri": "https://localhost:8080/"
        },
        "id": "c2sS6S1R4cGG",
        "outputId": "53520842-d288-4d21-94b0-f107aef8ecdb"
      },
      "execution_count": 227,
      "outputs": [
        {
          "output_type": "stream",
          "name": "stdout",
          "text": [
            "[[ 1.   1.5 -0.5]\n",
            " [ 0.   1.  -3. ]\n",
            " [ 0.  -1.   0. ]]\n",
            "==========\n",
            "[[ 3.5]\n",
            " [-5. ]\n",
            " [-4. ]]\n"
          ]
        }
      ]
    },
    {
      "cell_type": "code",
      "source": [
        "if pivot_row[1] != 1:\n",
        "  a=change(A, pivot_row[1]+1, pivot_row[1])\n",
        "  b=change(B, pivot_row[1]+1, pivot_row[1])"
      ],
      "metadata": {
        "id": "0f7YqCx75D7-"
      },
      "execution_count": 231,
      "outputs": []
    },
    {
      "cell_type": "code",
      "source": [
        "for i in range(2, len(row_index)):\n",
        "    pivot = a[i][1]\n",
        "    a[i] = a[i] - a[1]* pivot\n",
        "    b[i] = b[i] - b[1]* pivot\n",
        "\n",
        "check_matrix(a,b)"
      ],
      "metadata": {
        "colab": {
          "base_uri": "https://localhost:8080/"
        },
        "id": "AoK2jRLk4_cG",
        "outputId": "b2f0ea84-21e9-4820-d429-5e1d7863d42e"
      },
      "execution_count": 232,
      "outputs": [
        {
          "output_type": "stream",
          "name": "stdout",
          "text": [
            "[[ 1.   1.5 -0.5]\n",
            " [ 0.   1.  -3. ]\n",
            " [ 0.   0.  -3. ]]\n",
            "==========\n",
            "[[ 3.5]\n",
            " [-5. ]\n",
            " [-9. ]]\n"
          ]
        }
      ]
    }
  ]
}